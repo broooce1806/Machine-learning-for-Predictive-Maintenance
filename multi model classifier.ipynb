{
 "cells": [
  {
   "cell_type": "code",
   "execution_count": 18,
   "id": "518e9908-fcff-4e4a-8423-1a7facecb783",
   "metadata": {},
   "outputs": [
    {
     "data": {
      "text/plain": [
       "28"
      ]
     },
     "execution_count": 18,
     "metadata": {},
     "output_type": "execute_result"
    }
   ],
   "source": [
    "# Prepare features and all targets\n",
    "features = df.drop(targets, axis=1)\n",
    "Y = df[targets]\n",
    "\n",
    "# Single split for all targets\n",
    "X_train, X_test, Y_train, Y_test = train_test_split(\n",
    "    features, Y, stratify=Y['Machine failure'], test_size=0.2, random_state=42\n",
    ")\n",
    "\n",
    "models = {}\n",
    "for target in targets:\n",
    "    y_train = Y_train[target]\n",
    "    y_test = Y_test[target]\n",
    "    clf = RandomForestClassifier(n_estimators=100, random_state=42, class_weight='balanced')\n",
    "    clf.fit(X_train, y_train)\n",
    "    models[target] = clf\n",
    "\n",
    "# Store predictions and actuals in results DataFrame\n",
    "X_test_df = X_test.copy()\n",
    "for target in targets:\n",
    "    X_test_df[f'Predicted_{target}'] = models[target].predict(X_test)\n",
    "    X_test_df[f'Actual_{target}'] = Y_test[target].values\n",
    "\n",
    "# Write results to SQL Server\n",
    "engine = create_engine('mssql+pyodbc://localhost/Project1?driver=ODBC+Driver+17+for+SQL+Server&trusted_connection=yes')\n",
    "X_test_df.to_sql('ml_predictions', engine, if_exists='replace', index=False)\n"
   ]
  },
  {
   "cell_type": "code",
   "execution_count": 20,
   "id": "aee913b2-043b-4dd1-bdb2-3ebfb48954c7",
   "metadata": {},
   "outputs": [
    {
     "data": {
      "text/plain": [
       "['machine_failure_model.pkl']"
      ]
     },
     "execution_count": 20,
     "metadata": {},
     "output_type": "execute_result"
    }
   ],
   "source": [
    "import joblib\n",
    "\n",
    "# Train your model as shown before...\n",
    "joblib.dump(clf, 'machine_failure_model.pkl')\n"
   ]
  },
  {
   "cell_type": "code",
   "execution_count": null,
   "id": "fc5b8379-489f-4398-a002-10663166ba25",
   "metadata": {},
   "outputs": [],
   "source": []
  }
 ],
 "metadata": {
  "kernelspec": {
   "display_name": "Python [conda env:base] *",
   "language": "python",
   "name": "conda-base-py"
  },
  "language_info": {
   "codemirror_mode": {
    "name": "ipython",
    "version": 3
   },
   "file_extension": ".py",
   "mimetype": "text/x-python",
   "name": "python",
   "nbconvert_exporter": "python",
   "pygments_lexer": "ipython3",
   "version": "3.12.7"
  }
 },
 "nbformat": 4,
 "nbformat_minor": 5
}
